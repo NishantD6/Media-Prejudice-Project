{
 "cells": [
  {
   "cell_type": "code",
   "execution_count": 73,
   "metadata": {},
   "outputs": [],
   "source": [
    "path = \"/Users/nishant/Desktop/1- Reserch/Media Bias/Data&Code/NHSTA/RawDataFiles/FLAT_CMPL.txt\"\n",
    "import numpy as np\n",
    "import pandas as pd\n",
    "import matplotlib.pyplot as plt\n",
    "import seaborn as sns\n",
    "%matplotlib inline\n",
    "pd.set_option('display.max_columns', None)\n",
    "pd.set_option('display.max_rows', None)\n",
    "import plotly.express as px"
   ]
  },
  {
   "cell_type": "markdown",
   "metadata": {},
   "source": [
    "# Importing the Dataset"
   ]
  },
  {
   "cell_type": "code",
   "execution_count": 74,
   "metadata": {
    "scrolled": true
   },
   "outputs": [
    {
     "name": "stderr",
     "output_type": "stream",
     "text": [
      "b'Skipping line 562496: expected 49 fields, saw 70\\n'\n",
      "b'Skipping line 1032277: expected 49 fields, saw 50\\n'\n",
      "b'Skipping line 1208443: expected 49 fields, saw 50\\n'\n",
      "b'Skipping line 1293415: expected 49 fields, saw 50\\n'\n",
      "b'Skipping line 1298299: expected 49 fields, saw 50\\nSkipping line 1298300: expected 49 fields, saw 50\\nSkipping line 1298301: expected 49 fields, saw 50\\n'\n",
      "b'Skipping line 1318235: expected 49 fields, saw 50\\nSkipping line 1323167: expected 49 fields, saw 50\\nSkipping line 1325081: expected 49 fields, saw 50\\n'\n",
      "b'Skipping line 1331783: expected 49 fields, saw 50\\nSkipping line 1335126: expected 49 fields, saw 50\\n'\n",
      "b'Skipping line 1384214: expected 49 fields, saw 50\\n'\n",
      "b'Skipping line 1393823: expected 49 fields, saw 50\\nSkipping line 1401778: expected 49 fields, saw 50\\n'\n",
      "b'Skipping line 1454055: expected 49 fields, saw 50\\nSkipping line 1454056: expected 49 fields, saw 50\\n'\n",
      "b'Skipping line 1458384: expected 49 fields, saw 50\\nSkipping line 1460882: expected 49 fields, saw 50\\nSkipping line 1464883: expected 49 fields, saw 50\\n'\n",
      "b'Skipping line 1481618: expected 49 fields, saw 50\\nSkipping line 1487037: expected 49 fields, saw 50\\n'\n",
      "b'Skipping line 1501927: expected 49 fields, saw 50\\n'\n",
      "b'Skipping line 1527758: expected 49 fields, saw 50\\nSkipping line 1530186: expected 49 fields, saw 50\\n'\n",
      "b'Skipping line 1543844: expected 49 fields, saw 50\\n'\n"
     ]
    }
   ],
   "source": [
    "df = pd.read_csv(path,header=None,error_bad_lines=False, delimiter=\"\\t\",\n",
    "                encoding='latin1')"
   ]
  },
  {
   "cell_type": "code",
   "execution_count": 78,
   "metadata": {
    "scrolled": true
   },
   "outputs": [
    {
     "name": "stdout",
     "output_type": "stream",
     "text": [
      "<class 'pandas.core.frame.DataFrame'>\n",
      "Int64Index: 1542175 entries, 0 to 1653309\n",
      "Data columns (total 31 columns):\n",
      "CMPLID               1542175 non-null object\n",
      "ODINO                1542175 non-null object\n",
      "MFR_NAME             1542175 non-null object\n",
      "MAKETXT              1542175 non-null object\n",
      "MODELTXT             1542175 non-null object\n",
      "YEARTXT              1542175 non-null object\n",
      "CRASH                1542175 non-null object\n",
      "FAILDATE             1542175 non-null datetime64[ns]\n",
      "FIRE                 1542175 non-null object\n",
      "INJURED              646354 non-null Int64\n",
      "DEATHS               624189 non-null Int64\n",
      "COMPDESC             1542175 non-null object\n",
      "CITY                 1542175 non-null object\n",
      "STATE                1542175 non-null object\n",
      "LDATE                1542174 non-null datetime64[ns]\n",
      "MILES                960238 non-null float64\n",
      "CDESCR               1542175 non-null object\n",
      "CMPL_TYPE            1542175 non-null object\n",
      "POLICE_RPT_YN        1542175 non-null object\n",
      "ANTI_BRAKES_YN       1542175 non-null object\n",
      "CRUISE_CONT_YN       1542175 non-null object\n",
      "NUM_CYLS             425404 non-null Int64\n",
      "DRIVE_TRAIN          1542175 non-null object\n",
      "FUEL_SYS             1542175 non-null object\n",
      "FUEL_TYPE            1542175 non-null object\n",
      "TRANS_TYPE           1542175 non-null object\n",
      "VEH_SPEED            847181 non-null float64\n",
      "PROD_TYPE            1542175 non-null object\n",
      "REPAIRED_YN          1542175 non-null object\n",
      "MEDICAL_ATTN         592357 non-null object\n",
      "VEHICLES_TOWED_YN    474152 non-null object\n",
      "dtypes: Int64(3), datetime64[ns](2), float64(2), object(24)\n",
      "memory usage: 380.9+ MB\n"
     ]
    }
   ],
   "source": [
    "#Playing Around\n",
    "\n",
    "df.info()\n",
    "#df.head()\n",
    "#df.columns\n",
    "# df[31].describe()\n",
    "#df[40] = df[40].astype(str)\n",
    "# df[18].value_counts()\n",
    "#df[15] = df[15].astype('Int64')\n",
    "#df[15] = df[15].astype(str)\n",
    "# df[15] = pd.to_datetime(df[15].astype(str), format='%Y%m%d', errors='coerce')\n",
    "\n",
    "# df[[16]]\n",
    "#df.groupby(df[7].dt.year.rename('year')).agg({'count'})[7].plot()\n",
    "#df[(df[7] > '2020-04-01')]\n",
    "#for i in df[16]:"
   ]
  },
  {
   "cell_type": "markdown",
   "metadata": {},
   "source": [
    "# Cleaning dataset "
   ]
  },
  {
   "cell_type": "code",
   "execution_count": 75,
   "metadata": {},
   "outputs": [],
   "source": [
    "#Standardizing data types\n",
    "df[0] = df[0].astype(str)\n",
    "df[1] = df[1].astype(str)\n",
    "df[2] = df[2].astype(str)\n",
    "df[3] = df[3].astype(str)\n",
    "df[4] = df[4].astype(str)\n",
    "df[5] = df[5].astype(str)\n",
    "df[6] = df[6].astype(str)\n",
    "df[7] = pd.to_datetime(df[7].astype(str), format='%Y%m%d', errors='coerce')\n",
    "df[8] = df[8].astype(str)\n",
    "df[9] = df[9].astype('Int64')\n",
    "df[10] = df[10].astype('Int64')\n",
    "df[11] = df[11].astype(str)\n",
    "df[12] = df[12].astype(str)\n",
    "df[13] = df[13].astype(str)\n",
    "df[14] = df[14].astype(str)\n",
    "df[15] = pd.to_datetime(df[15].astype(str), format='%Y%m%d', errors='coerce')\n",
    "df[16] = pd.to_datetime(df[16].astype(str), format='%Y%m%d', errors='coerce')\n",
    "df[19] = df[19].astype(str)\n",
    "df[20] = df[20].astype(str)\n",
    "df[21] = df[21].astype(str)\n",
    "df[22] = pd.to_datetime(df[22].astype(str), format='%Y%m%d', errors='coerce')\n",
    "df[23] = df[23].astype(str)\n",
    "df[24] = df[24].astype(str)\n",
    "df[25] = df[25].astype(str)\n",
    "df[26] = df[26].astype('Int64')\n",
    "df[27] = df[27].astype(str)\n",
    "df[28] = df[28].astype(str)\n",
    "df[29] = df[29].astype(str)\n",
    "df[30] = df[30].astype(str)\n",
    "df[31] = df[31].astype('float',errors='ignore')\n",
    "df[32] = df[32].astype(str)\n",
    "df[33] = df[33].astype(str)\n",
    "df[34] = df[34].astype(str)\n",
    "df[35] = df[35].astype(str)\n",
    "df[36] = df[36].astype(str)\n",
    "df[37] = pd.to_datetime(df[37].astype(str), format='%Y%m%d', errors='coerce')\n",
    "df[38] = df[38].astype(str)\n",
    "df[39] = df[39].astype(str)\n",
    "df[40] = df[40].astype(str)\n",
    "df[41] = df[41].astype(str)\n",
    "df[42] = df[42].astype(str)\n",
    "df[43] = df[43].astype(str)\n",
    "df[44] = df[44].astype(str)\n",
    "df[45] = df[45].astype(str)\n",
    "df[46] = df[46].astype(str)"
   ]
  },
  {
   "cell_type": "code",
   "execution_count": 76,
   "metadata": {},
   "outputs": [],
   "source": [
    "# Renaming Columns\n",
    "df.rename(columns={\n",
    "    0 :'CMPLID',\n",
    "    1:'ODINO',\n",
    "    2:'MFR_NAME',\n",
    "    3:'MAKETXT',\n",
    "    4:'MODELTXT',\n",
    "    5:'YEARTXT',\n",
    "    6:\"CRASH\",\n",
    "    7:'FAILDATE',\n",
    "    8:\"FIRE \",\n",
    "    9:\"INJURED\",\n",
    "    10:\"DEATHS\",\n",
    "    11:\"COMPDESC\",\n",
    "    12:\"CITY\",\n",
    "    13:\"STATE\",\n",
    "    14:\"VIN\",\n",
    "    15:\"DATEA\",\n",
    "    16:\"LDATE\",\n",
    "    17:\"MILES\",\n",
    "    18:\"OCCURENCES\",\n",
    "    19:\"CDESCR\",\n",
    "    20:\"CMPL_TYPE\",\n",
    "    21:\"POLICE_RPT_YN\",\n",
    "    22:\"PURCH_DT\",\n",
    "    23:\"ORIG_OWNER_YN\",\n",
    "    24:\"ANTI_BRAKES_YN\",\n",
    "    25:\"CRUISE_CONT_YN\",\n",
    "    26:\"NUM_CYLS\",\n",
    "    27:\"DRIVE_TRAIN\",\n",
    "    28:\"FUEL_SYS\",\n",
    "    29:\"FUEL_TYPE\",\n",
    "    30:\"TRANS_TYPE\",\n",
    "    31:'VEH_SPEED',\n",
    "    32:\"DOT\",\n",
    "    33:\"TIRE_SIZE\",\n",
    "    34:\"LOC_OF_TIRE\",\n",
    "    35:\"TIRE_FAIL_TYPE\",\n",
    "    36:\"ORIG_EQUIP_YN\",\n",
    "    37:\"MANUF_DT\",\n",
    "    38:\"SEAT_TYPE\",\n",
    "    39:\"RESTRAINT_TYPE\",\n",
    "    40:\"DEALER_NAME\",\n",
    "    41:\"DEALER_TEL\",\n",
    "    42:\"DEALER_CITY\",\n",
    "    43:\"DEALER_STATE\",\n",
    "    44:\"DEALER_ZIP\",\n",
    "    45:\"PROD_TYPE\",\n",
    "    46:\"REPAIRED_YN\",\n",
    "    47:\"MEDICAL_ATTN\",\n",
    "    48:\"VEHICLES_TOWED_YN\"  \n",
    "    }, inplace=True)"
   ]
  },
  {
   "cell_type": "code",
   "execution_count": 77,
   "metadata": {},
   "outputs": [],
   "source": [
    "# Selecting Relevent Columns only\n",
    "df = df.iloc[:,pd.np.r_[0:14,16:18,19:22, 24:32, 45:49]]\n",
    "df.drop_duplicates('ODINO', keep='last')\n",
    "#Selecting Relevent Rows Only (Removing Typos after March 2020)\n",
    "df = df[df['FAILDATE']<'2020-04-01']\n",
    "# df1.columns"
   ]
  },
  {
   "cell_type": "code",
   "execution_count": null,
   "metadata": {},
   "outputs": [],
   "source": [
    "# df[df['DEATHS']>80]\n",
    "# TESLA_COMPLAINTS = df[df['MAKETXT']==\"TESLA\"]\n",
    "# TESLA_COMPLAINTS.to_csv(r'/Users/nishant/Desktop/Media Bias/Data&Code/NHSTA/TESLACOMPLAINTS.CSV', index = False)"
   ]
  },
  {
   "cell_type": "code",
   "execution_count": 79,
   "metadata": {},
   "outputs": [],
   "source": [
    "#WORKING WITH POST 2010 DATA ONLY\n",
    "df1 = df[df['FAILDATE']>=\"2010-01-01\"]\n",
    "# df1['MFR_NAME'].value_counts()"
   ]
  },
  {
   "cell_type": "markdown",
   "metadata": {},
   "source": [
    "## Correcting MAKE/GROUP, Standardized to IHS DataSet"
   ]
  },
  {
   "cell_type": "code",
   "execution_count": 80,
   "metadata": {},
   "outputs": [],
   "source": [
    "df1['MFR_NAME'].replace({\n",
    "    \"ALFA ROMEO, INCORPORATED\":\"Fiat Chrysler Automobiles\",\n",
    "    \"AMERICAN SUZUKI MOTOR CORP.\":\"Suzuki\",\n",
    "    'ASTON MARTIN':\"Aston Martin Finance Gr.\",\n",
    "    'Aston Martin Lagonda of North America':\"Aston Martin Finance Gr.\",\n",
    "    'Aston Martin The Americas':\"Aston Martin Finance Gr.\",\n",
    "    \"BENTLEY MOTORS LTD\":\"Volkswagen\",\n",
    "    \"BMW OF NORTH AMERICA, LLC\":\"BMW\",\n",
    "    \"BMW of North America, LLC\":\"BMW\",\n",
    "    \"CHRYSLER GROUP LLC\":\"Fiat Chrysler Automobiles\",\n",
    "    \"CHRYSLER GROUP GLOBAL ELECTRIC MOTORCARS\":\"Fiat Chrysler Automobiles\",\n",
    "    \"Chrysler (FCA US LLC)\":\"Fiat Chrysler Automobiles\",\n",
    "    \"Chrysler Group LLC\":\"Fiat Chrysler Automobiles\",\n",
    "    \"DAIHATSU AMERICA, INC.\":\"Toyota Group\",\n",
    "    \"FIAT MOTORS OF N.A., INC.\":\"Fiat Chrysler Automobiles\",\n",
    "    \"FERRARI NORTH AMERICA INC\":\"Ferrari\",\n",
    "    \"Ferrari North America, Inc.\":\"Ferrari\",\n",
    "    \"FORD MOTOR COMPANY\":\"Ford\",\n",
    "    \"Ford Motor Company\":\"Ford\",\n",
    "    \"GENERAL MOTORS CORP.\": \"General Motors\",\n",
    "    \"GENERAL MOTORS LLC\": \"General Motors\",\n",
    "    \"General Motors LLC\": \"General Motors\",\n",
    "    \"HONDA (AMERICAN HONDA MOTOR CO.)\":\"Honda\",\n",
    "    \"Honda (American Honda Motor Co.)\":\"Honda\",\n",
    "    \"HYUNDAI MOTOR COMPANY\":\"Hyundai Kia Automotive Group\",\n",
    "    \"HYUNDAI-KIA AMERICA TECHNICAL CENTER INC\":\"Hyundai Kia Automotive Group\",\n",
    "    \"Hyundai Motor America\":\"Hyundai Kia Automotive Group\",\n",
    "    \"Hyundai Motor Company\":\"Hyundai Kia Automotive Group\",\n",
    "    \"Hyundai Translead\":\"Hyundai Kia Automotive Group\",\n",
    "    \"ISUZU MANUFACTURING SERVICES OF AMERICA\":\"Isuzu\",\n",
    "    \"Isuzu Manufacturing Services of America\":\"Isuzu\",\n",
    "    \"Isuzu Technical Center of America, Inc.\":\"Isuzu\",\n",
    "    \"KTM NORTH AMERICA, INC\":\"KTM\",\n",
    "    \"KTM North America, Inc.\":\"KTM\",\n",
    "    \"PIAGGIO USA, INC.\":\"Piaggio\",\n",
    "    \"Piaggio\":\"Piaggio\",\n",
    "    \"ROLLS-ROYCE MOTORS, INC.\":\"BMW\",\n",
    "    \"Rolls-Royce Motor Cars, Ltd.\":\"BMW\",\n",
    "    \"JAGUAR CARS LTD\":\"Tata Gr.\",\n",
    "    \"JAGUAR ROVER TRIUMPH INC.\":\"Tata Gr.\",\n",
    "    \"Jaguar Land Rover North America, LLC\":\"Tata Gr.\",\n",
    "    \"JAGUAR CARS LTD\":\"Tata Gr.\",\n",
    "    \"KIA MOTORS CORPORATION\":\"Hyundai Kia Automotive Group\",\n",
    "    \"Kia Motors America\":\"Hyundai Kia Automotive Group\",\n",
    "    \"Kia Motors Corporation\":\"Hyundai Kia Automotive Group\",\n",
    "    \"LAND ROVER\": \"Tata Gr.\",\n",
    "    \"LOTUS CARS LTD\":\"Geely Automobile Hld.\",\n",
    "    \"Lotus Cars Limited\":\"Geely Automobile Hld.\",\n",
    "    \"MASERATI NORTH AMERICA, INC.\":\"Fiat Chrysler Automobiles\",\n",
    "    \"Maserati North America, Inc.\":\"Fiat Chrysler Automobiles\",\n",
    "    \"MAZDA MOTOR CORP\":\"Mazda Motors Gr.\",\n",
    "    \"MAZDA NORTH AMERICAN OPERATIONS\":\"Mazda Motors Gr.\",\n",
    "    \"Mazda Motor Corp.\":\"Mazda Motors Gr.\",\n",
    "    \"Mazda North American Operations\":\"Mazda Motors Gr.\",\n",
    "    \"MERCEDES-BENZ USA, LLC - DBA SPRINTER\":\"Daimler\",\n",
    "    \"MERCEDES-BENZ USA, LLC.\":\"Daimler\",\n",
    "    \"RENAULT SAMSUNG MOTORS\":\"Renault-Nissan-Mitsubishi\",\n",
    "    \"MITSUBISHI CARIBBEAN\":\"Renault-Nissan-Mitsubishi\",\n",
    "    \"MITSUBISHI MANUFACTURING AMER\":\"Renault-Nissan-Mitsubishi\",\n",
    "    \"MITSUBISHI MOTORS NORTH AMERICA, INC.\":\"Renault-Nissan-Mitsubishi\",  \n",
    "    \"MITSUBISHI MANUFACTURING AMER\":\"Renault-Nissan-Mitsubishi\",\n",
    "    \"Mitsubishi Motors North America, Inc.\":\"Renault-Nissan-Mitsubishi\",  \n",
    "    \"Mercedes-Benz USA, LLC - DBA Sprinter\":\"Daimler\",\n",
    "    \"Mercedes-Benz USA, LLC.\":\"Daimler\",\n",
    "    \"McLaren Automotive Incorporated\":\"McLaren Group\",\n",
    "    \"NISSAN NORTH AMERICA, INC.\":\"Renault-Nissan-Mitsubishi\",\n",
    "    \"Nissan North America, Inc.\":\"Renault-Nissan-Mitsubishi\",\n",
    "    \"PORSCHE CARS NORTH AMERICA, INC.\":\"Volkswagen\",\n",
    "    \"Pagani Automobili SpA\":\"Pagani\",\n",
    "    \"Piaggio Group Americas. Inc.\":\"Piaggio\",\n",
    "    \"Porsche Cars North America, Inc.\":\"Volkswagen\",\n",
    "    \"SAAB CARS NORTH AMERICA, INC.\":\"Saab\",\n",
    "    \"SAAB CARS USA, INC.\":\"Saab\",\n",
    "    \"SUBARU OF AMERICA, INC.\":\"Subaru Gr.\",\n",
    "    \"Subaru of America, Inc.\":\"Subaru Gr.\",\n",
    "    \"Suzuki Motor of America, Inc.\":\"Suzuki\",\n",
    "    \"American Suzuki Motor Corp.\":\"Suzuki\",\n",
    "    \"TOYOTA MOTOR CORPORATION\":\"Toyota Group\",\n",
    "    \"TOYOTA MOTOR NORTH AMERICA, INC.\":\"Toyota Group\",\n",
    "    \"Toyota Motor Corporation\":\"Toyota Group\",\n",
    "    \"Tesla Motors, Inc\":\"Tesla\",\n",
    "    \"Tesla Motors, Inc.\":\"Tesla\",\n",
    "    \"Tesla, Inc.\":\"Tesla\",\n",
    "    \"TESLA MOTORS, INC\": \"Tesla\",\n",
    "    \"VOLKSWAGEN OF AMERICA, INC\":\"Volkswagen\",\n",
    "    \"Volkswagen Group of America, Inc.\":\"Volkswagen\",\n",
    "    \"Volkswagen of America, Inc.\":\"Volkswagen\",\n",
    "    \"VOLVO CARS OF N.A. LLC.\":\"Geely Automobile Hld.\",\n",
    "    \"Volvo Car USA LLC\":\"Geely Automobile Hld.\",\n",
    "    \"Automobili Lamborghini\":\"Volkswagen\",\n",
    "    \"BAYERISCHE MOTOREN WERKE\":\"BMW\",\n",
    "    \"DAIMLERCHRYSLER MANUFACTURING INTL\":\"Fiat Chrysler Automobiles\"\n",
    "    \n",
    "\n",
    "},inplace=True)\n",
    "\n"
   ]
  },
  {
   "cell_type": "markdown",
   "metadata": {},
   "source": [
    "# SELECTING ONLY AUTOMBILE BRANDS"
   ]
  },
  {
   "cell_type": "code",
   "execution_count": 81,
   "metadata": {},
   "outputs": [],
   "source": [
    "dfw = df1[(df1['MFR_NAME']=='Aston Martin Finance Gr.') |\n",
    "         (df1['MFR_NAME']=='BMW') |\n",
    "         (df1['MFR_NAME']=='Daimler') |\n",
    "        (df1['MFR_NAME']=='Ferrari') |\n",
    "         (df1['MFR_NAME']=='Fiat Chrysler Automobiles') |\n",
    "        (df1['MFR_NAME']=='Ford') |\n",
    "         (df1['MFR_NAME']=='Geely Automobile Hld.') |\n",
    "        (df1['MFR_NAME']=='General Motors') |\n",
    "         (df1['MFR_NAME']=='Honda') |\n",
    "        (df1['MFR_NAME']=='Hyundai Kia Automotive Group') |\n",
    "         (df1['MFR_NAME']=='Isuzu') |\n",
    "        (df1['MFR_NAME']=='KTM') |\n",
    "         (df1['MFR_NAME']=='Mazda Motors Gr.') |   \n",
    "        (df1['MFR_NAME']=='McLaren Group') |\n",
    "         (df1['MFR_NAME']=='Pagani') |\n",
    "        (df1['MFR_NAME']=='Piaggio') |\n",
    "         (df1['MFR_NAME']=='Renault-Nissan-Mitsubishi') |\n",
    "        (df1['MFR_NAME']=='Saab') |\n",
    "         (df1['MFR_NAME']=='Subaru Gr.') |\n",
    "        (df1['MFR_NAME']=='Suzuki') |\n",
    "         (df1['MFR_NAME']=='Tata Gr.') |\n",
    "        (df1['MFR_NAME']=='Toyota Group') |\n",
    "         (df1['MFR_NAME']=='Tesla') |\n",
    "        (df1['MFR_NAME']=='Volkswagen')  \n",
    "         ]"
   ]
  },
  {
   "cell_type": "code",
   "execution_count": null,
   "metadata": {},
   "outputs": [],
   "source": [
    "# Working through make of selected Manufacturer/Group\n",
    "dfw['MFR_NAME'].value_counts(ascending= False).sort_index()"
   ]
  },
  {
   "cell_type": "code",
   "execution_count": 85,
   "metadata": {
    "scrolled": false
   },
   "outputs": [
    {
     "data": {
      "text/plain": [
       "MFR_NAME                      MAKETXT         \n",
       "Aston Martin Finance Gr.      ASTON MARTIN            22\n",
       "BMW                           BMW                  21319\n",
       "                              MINI                  4279\n",
       "                              ROLLS-ROYCE              6\n",
       "                              BENTLEY                  1\n",
       "Daimler                       Mercedes-Benz        15260\n",
       "                              SMART                   98\n",
       "                              MERCEDES-MAYBACH         1\n",
       "Ferrari                       FERRARI                 39\n",
       "Fiat Chrysler Automobiles     DODGE                58280\n",
       "                              JEEP                 57815\n",
       "                              CHRYSLER             33768\n",
       "                              RAM                   9966\n",
       "                              FIAT                  1304\n",
       "                              PLYMOUTH               273\n",
       "                              MASERATI               149\n",
       "                              ALFA ROMEO              87\n",
       "Ford                          FORD                138890\n",
       "                              MERCURY               8655\n",
       "                              LINCOLN               5325\n",
       "                              LAND ROVER              85\n",
       "Geely Automobile Hld.         VOLVO                 2605\n",
       "                              LOTUS                   82\n",
       "General Motors                CHEVROLET            99080\n",
       "                              GMC                  21747\n",
       "                              PONTIAC              14000\n",
       "                              SATURN               10673\n",
       "                              BUICK                 9597\n",
       "                              CADILLAC              8189\n",
       "                              OLDSMOBILE            1343\n",
       "                              SAAB                  1233\n",
       "                              HUMMER                1059\n",
       "Honda                         HONDA                47160\n",
       "                              ACURA                 6445\n",
       "Hyundai Kia Automotive Group  HYUNDAI              30080\n",
       "                              KIA                  19281\n",
       "                              GENESIS                 45\n",
       "Isuzu                         ISUZU                 1352\n",
       "                              CHEVROLET                3\n",
       "KTM                           KTM                     92\n",
       "                              HUSQVARNA                3\n",
       "Mazda Motors Gr.              MAZDA                11537\n",
       "McLaren Group                 MCLAREN                 11\n",
       "Pagani                        PAGANI                   2\n",
       "Piaggio                       PIAGGIO                102\n",
       "Renault-Nissan-Mitsubishi     NISSAN               49793\n",
       "                              INFINITI              5177\n",
       "                              MITSUBISHI            3560\n",
       "                              RENAULT                  2\n",
       "Saab                          SAAB                   193\n",
       "Subaru Gr.                    SUBARU               12672\n",
       "Suzuki                        SUZUKI                2875\n",
       "Tata Gr.                      LAND ROVER            1442\n",
       "                              JAGUAR                1131\n",
       "                              RANGE ROVER             38\n",
       "Tesla                         TESLA                 1888\n",
       "Toyota Group                  TOYOTA               68286\n",
       "                              LEXUS                 7897\n",
       "                              SCION                 1740\n",
       "                              DAIHATSU                 1\n",
       "Volkswagen                    VOLKSWAGEN           19690\n",
       "                              AUDI                  5450\n",
       "                              PORSCHE                953\n",
       "                              BENTLEY                 33\n",
       "                              LAMBORGHINI              4\n",
       "Name: MAKETXT, dtype: int64"
      ]
     },
     "execution_count": 85,
     "metadata": {},
     "output_type": "execute_result"
    }
   ],
   "source": [
    "dfw.groupby('MFR_NAME')['MAKETXT'].value_counts()"
   ]
  },
  {
   "cell_type": "markdown",
   "metadata": {},
   "source": [
    "# DATA CLEANING AT MAKE LEVEL"
   ]
  },
  {
   "cell_type": "code",
   "execution_count": 82,
   "metadata": {},
   "outputs": [],
   "source": [
    "# Correcting incorrect spellings\n",
    "dfw['MAKETXT'].replace({\n",
    "    \"MERCEDES BENZ\":\"Mercedes-Benz\",\n",
    "    \"MERCEDES BENZ\":\"Mercedes-Benz\",\n",
    "    \"MERCEDES\":\"Mercedes-Benz\",\n",
    "    \"MERCEDES-BENZ\":\"Mercedes-Benz\",\n",
    "},inplace=True)"
   ]
  },
  {
   "cell_type": "code",
   "execution_count": 83,
   "metadata": {},
   "outputs": [],
   "source": [
    "#Correcting incorrect entries\n",
    "dfw.loc[(dfw['MAKETXT']=='Mercedes-Benz') & (dfw['MFR_NAME']==\"Fiat Chrysler Automobiles\"), 'MFR_NAME'] = \"Daimler\"\n",
    "dfw.loc[(dfw['MAKETXT']=='ALFA'), 'MAKETXT'] = \"ALFA ROMEO\"\n",
    "dfw.loc[(dfw['MAKETXT']=='KIA MOTOR'), 'MAKETXT'] = \"KIA\"\n",
    "dfw.loc[(dfw['MAKETXT']=='MITSUBISHI CARIBBEAN'), 'MAKETXT'] = \"MITSUBISHI\"\n",
    "dfw.loc[(dfw['MAKETXT']=='MITSUBISH'), 'MAKETXT'] = \"MITSUBISHI\"\n",
    "dfw.loc[(dfw['MAKETXT']=='VESPA'), 'MAKETXT'] = \"PIAGGIO\"\n",
    "dfw.loc[(dfw['MAKETXT']=='PIAGGIO AND VESPA'), 'MAKETXT'] = \"PIAGGIO\"\n",
    "dfw.loc[(dfw['MAKETXT']=='APRILLA'), 'MAKETXT'] = \"PIAGGIO\"\n",
    "dfw.loc[(dfw['MAKETXT']=='APRILIA'), 'MAKETXT'] = \"PIAGGIO\"\n",
    "dfw.loc[(dfw['MAKETXT']=='MOTO GUZZI'), 'MAKETXT'] = \"PIAGGIO\"\n",
    "dfw.loc[(dfw['MAKETXT']=='ACCORD'), 'MAKETXT'] = \"HONDA\"\n",
    "dfw.loc[(dfw['MAKETXT']=='GMSPO'), 'MAKETXT'] = \"CHEVROLET\"\n",
    "dfw.loc[(dfw['MAKETXT']=='GENERAL MOTORS'), 'MAKETXT'] = \"CHEVROLET\"\n",
    "dfw.loc[(dfw['MAKETXT']=='YAZAKI'), 'MAKETXT'] = \"FORD\"\n",
    "dfw.loc[(dfw['MAKETXT']=='MOTO GUZZI'), 'MAKETXT'] = \"PIAGGIO\"\n",
    "dfw.loc[(dfw['MAKETXT']=='MUSTANG'), 'MAKETXT'] = \"FORD\"\n",
    "dfw.loc[(dfw['MAKETXT']=='FORD COMPONENT SALES'), 'MAKETXT'] = \"FORD\"\n",
    "dfw.loc[(dfw['MAKETXT']=='FCA'), 'MAKETXT'] = \"CHRYSLER\"\n",
    "dfw.loc[(dfw['MAKETXT']=='STERLING'), 'MAKETXT'] = \"CHRYSLER\"\n",
    "dfw.loc[(dfw['MAKETXT']=='SRT'), 'MAKETXT'] = \"CHRYSLER\""
   ]
  },
  {
   "cell_type": "code",
   "execution_count": 84,
   "metadata": {},
   "outputs": [],
   "source": [
    "#Dropping unessesary observations\n",
    "dfw.drop(dfw[dfw.MAKETXT==\"BBS\" ].index, inplace=True)\n",
    "dfw.drop(dfw[dfw.MAKETXT==\"MG\" ].index, inplace=True)\n",
    "dfw.drop(dfw[dfw.MAKETXT==\"SEAT COVER UNLIMITED\" ].index, inplace=True)\n",
    "dfw.drop(dfw[dfw.MAKETXT==\"HYUNDAI TRANSLEAD\" ].index, inplace=True)\n",
    "dfw.drop(dfw[dfw.MAKETXT==\"GENERAL TRAILER\" ].index, inplace=True)\n",
    "dfw.drop(dfw[dfw.MAKETXT==\"D\" ].index, inplace=True)\n",
    "dfw.drop(dfw[dfw.MAKETXT==\"GEO\" ].index, inplace=True)\n",
    "dfw.drop(dfw[dfw.MAKETXT==\"AMERICAN MOTORS\" ].index, inplace=True)\n",
    "dfw.drop(dfw[dfw.MAKETXT==\"SEAT BELT ASSEMBLY\" ].index, inplace=True)\n",
    "dfw.drop(dfw[dfw.MAKETXT==\"GEM\" ].index, inplace=True)\n",
    "dfw.drop(dfw[dfw.MAKETXT==\"EAGLE\" ].index, inplace=True)\n",
    "dfw.drop(dfw[dfw.MAKETXT==\"MOPAR\" ].index, inplace=True)\n",
    "dfw.drop(dfw[dfw.MAKETXT==\"SPRINTER\" ].index, inplace=True)\n",
    "dfw.drop(dfw[dfw.MAKETXT==\"FREIGHTLINER\" ].index, inplace=True)"
   ]
  },
  {
   "cell_type": "code",
   "execution_count": 86,
   "metadata": {},
   "outputs": [],
   "source": [
    "dfw.to_csv(r'/Users/nishant/Desktop/1- Reserch/Media Bias/Data&Code/NHSTA/clean_dfw.CSV', index = False)"
   ]
  },
  {
   "cell_type": "markdown",
   "metadata": {},
   "source": [
    "# DATA ANALYSIS & VISUALIZATIONS"
   ]
  },
  {
   "cell_type": "code",
   "execution_count": 55,
   "metadata": {},
   "outputs": [
    {
     "data": {
      "application/vnd.plotly.v1+json": {
       "config": {
        "plotlyServerURL": "https://plot.ly"
       },
       "data": [
        {
         "branchvalues": "total",
         "domain": {
          "x": [
           0,
           1
          ],
          "y": [
           0,
           1
          ]
         },
         "hovertemplate": "labels=%{label}<br>CMPLID=%{value}<br>parent=%{parent}<br>id=%{id}<extra></extra>",
         "ids": [
          "Honda/ACURA",
          "Fiat Chrysler Automobiles/ALFA ROMEO",
          "Aston Martin Finance Gr./ASTON MARTIN",
          "Volkswagen/AUDI",
          "BMW/BENTLEY",
          "Volkswagen/BENTLEY",
          "BMW/BMW",
          "General Motors/BUICK",
          "General Motors/CADILLAC",
          "General Motors/CHEVROLET",
          "Isuzu/CHEVROLET",
          "Fiat Chrysler Automobiles/CHRYSLER",
          "Toyota Group/DAIHATSU",
          "Fiat Chrysler Automobiles/DODGE",
          "Ferrari/FERRARI",
          "Fiat Chrysler Automobiles/FIAT",
          "Ford/FORD",
          "Hyundai Kia Automotive Group/GENESIS",
          "General Motors/GMC",
          "Honda/HONDA",
          "General Motors/HUMMER",
          "Hyundai Kia Automotive Group/HYUNDAI",
          "Renault-Nissan-Mitsubishi/INFINITI",
          "Isuzu/ISUZU",
          "Tata Gr./JAGUAR",
          "Fiat Chrysler Automobiles/JEEP",
          "Hyundai Kia Automotive Group/KIA",
          "KTM/KTM",
          "Volkswagen/LAMBORGHINI",
          "Ford/LAND ROVER",
          "Tata Gr./LAND ROVER",
          "Toyota Group/LEXUS",
          "Ford/LINCOLN",
          "Geely Automobile Hld./LOTUS",
          "Fiat Chrysler Automobiles/MASERATI",
          "Mazda Motors Gr./MAZDA",
          "McLaren Group/MCLAREN",
          "Daimler/MERCEDES-MAYBACH",
          "Ford/MERCURY",
          "BMW/MINI",
          "Renault-Nissan-Mitsubishi/MITSUBISHI",
          "Daimler/Mercedes-Benz",
          "Renault-Nissan-Mitsubishi/NISSAN",
          "General Motors/OLDSMOBILE",
          "Pagani/PAGANI",
          "Piaggio/PIAGGIO",
          "Fiat Chrysler Automobiles/PLYMOUTH",
          "General Motors/PONTIAC",
          "Volkswagen/PORSCHE",
          "Fiat Chrysler Automobiles/RAM",
          "Tata Gr./RANGE ROVER",
          "Renault-Nissan-Mitsubishi/RENAULT",
          "BMW/ROLLS-ROYCE",
          "General Motors/SAAB",
          "Saab/SAAB",
          "General Motors/SATURN",
          "Toyota Group/SCION",
          "Daimler/SMART",
          "Subaru Gr./SUBARU",
          "Suzuki/SUZUKI",
          "Tesla/TESLA",
          "Toyota Group/TOYOTA",
          "Volkswagen/VOLKSWAGEN",
          "Geely Automobile Hld./VOLVO",
          "Aston Martin Finance Gr.",
          "BMW",
          "Daimler",
          "Ferrari",
          "Fiat Chrysler Automobiles",
          "Ford",
          "Geely Automobile Hld.",
          "General Motors",
          "Honda",
          "Hyundai Kia Automotive Group",
          "Isuzu",
          "KTM",
          "Mazda Motors Gr.",
          "McLaren Group",
          "Pagani",
          "Piaggio",
          "Renault-Nissan-Mitsubishi",
          "Saab",
          "Subaru Gr.",
          "Suzuki",
          "Tata Gr.",
          "Tesla",
          "Toyota Group",
          "Volkswagen"
         ],
         "labels": [
          "ACURA",
          "ALFA ROMEO",
          "ASTON MARTIN",
          "AUDI",
          "BENTLEY",
          "BENTLEY",
          "BMW",
          "BUICK",
          "CADILLAC",
          "CHEVROLET",
          "CHEVROLET",
          "CHRYSLER",
          "DAIHATSU",
          "DODGE",
          "FERRARI",
          "FIAT",
          "FORD",
          "GENESIS",
          "GMC",
          "HONDA",
          "HUMMER",
          "HYUNDAI",
          "INFINITI",
          "ISUZU",
          "JAGUAR",
          "JEEP",
          "KIA",
          "KTM",
          "LAMBORGHINI",
          "LAND ROVER",
          "LAND ROVER",
          "LEXUS",
          "LINCOLN",
          "LOTUS",
          "MASERATI",
          "MAZDA",
          "MCLAREN",
          "MERCEDES-MAYBACH",
          "MERCURY",
          "MINI",
          "MITSUBISHI",
          "Mercedes-Benz",
          "NISSAN",
          "OLDSMOBILE",
          "PAGANI",
          "PIAGGIO",
          "PLYMOUTH",
          "PONTIAC",
          "PORSCHE",
          "RAM",
          "RANGE ROVER",
          "RENAULT",
          "ROLLS-ROYCE",
          "SAAB",
          "SAAB",
          "SATURN",
          "SCION",
          "SMART",
          "SUBARU",
          "SUZUKI",
          "TESLA",
          "TOYOTA",
          "VOLKSWAGEN",
          "VOLVO",
          "Aston Martin Finance Gr.",
          "BMW",
          "Daimler",
          "Ferrari",
          "Fiat Chrysler Automobiles",
          "Ford",
          "Geely Automobile Hld.",
          "General Motors",
          "Honda",
          "Hyundai Kia Automotive Group",
          "Isuzu",
          "KTM",
          "Mazda Motors Gr.",
          "McLaren Group",
          "Pagani",
          "Piaggio",
          "Renault-Nissan-Mitsubishi",
          "Saab",
          "Subaru Gr.",
          "Suzuki",
          "Tata Gr.",
          "Tesla",
          "Toyota Group",
          "Volkswagen"
         ],
         "name": "",
         "parents": [
          "Honda",
          "Fiat Chrysler Automobiles",
          "Aston Martin Finance Gr.",
          "Volkswagen",
          "BMW",
          "Volkswagen",
          "BMW",
          "General Motors",
          "General Motors",
          "General Motors",
          "Isuzu",
          "Fiat Chrysler Automobiles",
          "Toyota Group",
          "Fiat Chrysler Automobiles",
          "Ferrari",
          "Fiat Chrysler Automobiles",
          "Ford",
          "Hyundai Kia Automotive Group",
          "General Motors",
          "Honda",
          "General Motors",
          "Hyundai Kia Automotive Group",
          "Renault-Nissan-Mitsubishi",
          "Isuzu",
          "Tata Gr.",
          "Fiat Chrysler Automobiles",
          "Hyundai Kia Automotive Group",
          "KTM",
          "Volkswagen",
          "Ford",
          "Tata Gr.",
          "Toyota Group",
          "Ford",
          "Geely Automobile Hld.",
          "Fiat Chrysler Automobiles",
          "Mazda Motors Gr.",
          "McLaren Group",
          "Daimler",
          "Ford",
          "BMW",
          "Renault-Nissan-Mitsubishi",
          "Daimler",
          "Renault-Nissan-Mitsubishi",
          "General Motors",
          "Pagani",
          "Piaggio",
          "Fiat Chrysler Automobiles",
          "General Motors",
          "Volkswagen",
          "Fiat Chrysler Automobiles",
          "Tata Gr.",
          "Renault-Nissan-Mitsubishi",
          "BMW",
          "General Motors",
          "Saab",
          "General Motors",
          "Toyota Group",
          "Daimler",
          "Subaru Gr.",
          "Suzuki",
          "Tesla",
          "Toyota Group",
          "Volkswagen",
          "Geely Automobile Hld.",
          "",
          "",
          "",
          "",
          "",
          "",
          "",
          "",
          "",
          "",
          "",
          "",
          "",
          "",
          "",
          "",
          "",
          "",
          "",
          "",
          "",
          "",
          "",
          ""
         ],
         "type": "sunburst",
         "values": [
          6445,
          87,
          22,
          5450,
          1,
          33,
          21319,
          9597,
          8189,
          99080,
          3,
          33768,
          1,
          58280,
          39,
          1304,
          138890,
          45,
          21747,
          47160,
          1059,
          30080,
          5177,
          1352,
          1131,
          57815,
          19281,
          95,
          4,
          85,
          1442,
          7897,
          5325,
          82,
          149,
          11537,
          11,
          1,
          8655,
          4279,
          3560,
          15260,
          49793,
          1343,
          2,
          102,
          273,
          14000,
          953,
          9966,
          38,
          2,
          6,
          1233,
          193,
          10673,
          1740,
          98,
          12672,
          2875,
          1888,
          68286,
          19690,
          2605,
          22,
          25605,
          15359,
          39,
          161642,
          152955,
          2687,
          166921,
          53605,
          49406,
          1355,
          95,
          11537,
          11,
          2,
          102,
          58532,
          193,
          12672,
          2875,
          2611,
          1888,
          77924,
          26130
         ]
        }
       ],
       "layout": {
        "legend": {
         "tracegroupgap": 0
        },
        "margin": {
         "t": 60
        },
        "template": {
         "data": {
          "bar": [
           {
            "error_x": {
             "color": "#2a3f5f"
            },
            "error_y": {
             "color": "#2a3f5f"
            },
            "marker": {
             "line": {
              "color": "#E5ECF6",
              "width": 0.5
             }
            },
            "type": "bar"
           }
          ],
          "barpolar": [
           {
            "marker": {
             "line": {
              "color": "#E5ECF6",
              "width": 0.5
             }
            },
            "type": "barpolar"
           }
          ],
          "carpet": [
           {
            "aaxis": {
             "endlinecolor": "#2a3f5f",
             "gridcolor": "white",
             "linecolor": "white",
             "minorgridcolor": "white",
             "startlinecolor": "#2a3f5f"
            },
            "baxis": {
             "endlinecolor": "#2a3f5f",
             "gridcolor": "white",
             "linecolor": "white",
             "minorgridcolor": "white",
             "startlinecolor": "#2a3f5f"
            },
            "type": "carpet"
           }
          ],
          "choropleth": [
           {
            "colorbar": {
             "outlinewidth": 0,
             "ticks": ""
            },
            "type": "choropleth"
           }
          ],
          "contour": [
           {
            "colorbar": {
             "outlinewidth": 0,
             "ticks": ""
            },
            "colorscale": [
             [
              0,
              "#0d0887"
             ],
             [
              0.1111111111111111,
              "#46039f"
             ],
             [
              0.2222222222222222,
              "#7201a8"
             ],
             [
              0.3333333333333333,
              "#9c179e"
             ],
             [
              0.4444444444444444,
              "#bd3786"
             ],
             [
              0.5555555555555556,
              "#d8576b"
             ],
             [
              0.6666666666666666,
              "#ed7953"
             ],
             [
              0.7777777777777778,
              "#fb9f3a"
             ],
             [
              0.8888888888888888,
              "#fdca26"
             ],
             [
              1,
              "#f0f921"
             ]
            ],
            "type": "contour"
           }
          ],
          "contourcarpet": [
           {
            "colorbar": {
             "outlinewidth": 0,
             "ticks": ""
            },
            "type": "contourcarpet"
           }
          ],
          "heatmap": [
           {
            "colorbar": {
             "outlinewidth": 0,
             "ticks": ""
            },
            "colorscale": [
             [
              0,
              "#0d0887"
             ],
             [
              0.1111111111111111,
              "#46039f"
             ],
             [
              0.2222222222222222,
              "#7201a8"
             ],
             [
              0.3333333333333333,
              "#9c179e"
             ],
             [
              0.4444444444444444,
              "#bd3786"
             ],
             [
              0.5555555555555556,
              "#d8576b"
             ],
             [
              0.6666666666666666,
              "#ed7953"
             ],
             [
              0.7777777777777778,
              "#fb9f3a"
             ],
             [
              0.8888888888888888,
              "#fdca26"
             ],
             [
              1,
              "#f0f921"
             ]
            ],
            "type": "heatmap"
           }
          ],
          "heatmapgl": [
           {
            "colorbar": {
             "outlinewidth": 0,
             "ticks": ""
            },
            "colorscale": [
             [
              0,
              "#0d0887"
             ],
             [
              0.1111111111111111,
              "#46039f"
             ],
             [
              0.2222222222222222,
              "#7201a8"
             ],
             [
              0.3333333333333333,
              "#9c179e"
             ],
             [
              0.4444444444444444,
              "#bd3786"
             ],
             [
              0.5555555555555556,
              "#d8576b"
             ],
             [
              0.6666666666666666,
              "#ed7953"
             ],
             [
              0.7777777777777778,
              "#fb9f3a"
             ],
             [
              0.8888888888888888,
              "#fdca26"
             ],
             [
              1,
              "#f0f921"
             ]
            ],
            "type": "heatmapgl"
           }
          ],
          "histogram": [
           {
            "marker": {
             "colorbar": {
              "outlinewidth": 0,
              "ticks": ""
             }
            },
            "type": "histogram"
           }
          ],
          "histogram2d": [
           {
            "colorbar": {
             "outlinewidth": 0,
             "ticks": ""
            },
            "colorscale": [
             [
              0,
              "#0d0887"
             ],
             [
              0.1111111111111111,
              "#46039f"
             ],
             [
              0.2222222222222222,
              "#7201a8"
             ],
             [
              0.3333333333333333,
              "#9c179e"
             ],
             [
              0.4444444444444444,
              "#bd3786"
             ],
             [
              0.5555555555555556,
              "#d8576b"
             ],
             [
              0.6666666666666666,
              "#ed7953"
             ],
             [
              0.7777777777777778,
              "#fb9f3a"
             ],
             [
              0.8888888888888888,
              "#fdca26"
             ],
             [
              1,
              "#f0f921"
             ]
            ],
            "type": "histogram2d"
           }
          ],
          "histogram2dcontour": [
           {
            "colorbar": {
             "outlinewidth": 0,
             "ticks": ""
            },
            "colorscale": [
             [
              0,
              "#0d0887"
             ],
             [
              0.1111111111111111,
              "#46039f"
             ],
             [
              0.2222222222222222,
              "#7201a8"
             ],
             [
              0.3333333333333333,
              "#9c179e"
             ],
             [
              0.4444444444444444,
              "#bd3786"
             ],
             [
              0.5555555555555556,
              "#d8576b"
             ],
             [
              0.6666666666666666,
              "#ed7953"
             ],
             [
              0.7777777777777778,
              "#fb9f3a"
             ],
             [
              0.8888888888888888,
              "#fdca26"
             ],
             [
              1,
              "#f0f921"
             ]
            ],
            "type": "histogram2dcontour"
           }
          ],
          "mesh3d": [
           {
            "colorbar": {
             "outlinewidth": 0,
             "ticks": ""
            },
            "type": "mesh3d"
           }
          ],
          "parcoords": [
           {
            "line": {
             "colorbar": {
              "outlinewidth": 0,
              "ticks": ""
             }
            },
            "type": "parcoords"
           }
          ],
          "pie": [
           {
            "automargin": true,
            "type": "pie"
           }
          ],
          "scatter": [
           {
            "marker": {
             "colorbar": {
              "outlinewidth": 0,
              "ticks": ""
             }
            },
            "type": "scatter"
           }
          ],
          "scatter3d": [
           {
            "line": {
             "colorbar": {
              "outlinewidth": 0,
              "ticks": ""
             }
            },
            "marker": {
             "colorbar": {
              "outlinewidth": 0,
              "ticks": ""
             }
            },
            "type": "scatter3d"
           }
          ],
          "scattercarpet": [
           {
            "marker": {
             "colorbar": {
              "outlinewidth": 0,
              "ticks": ""
             }
            },
            "type": "scattercarpet"
           }
          ],
          "scattergeo": [
           {
            "marker": {
             "colorbar": {
              "outlinewidth": 0,
              "ticks": ""
             }
            },
            "type": "scattergeo"
           }
          ],
          "scattergl": [
           {
            "marker": {
             "colorbar": {
              "outlinewidth": 0,
              "ticks": ""
             }
            },
            "type": "scattergl"
           }
          ],
          "scattermapbox": [
           {
            "marker": {
             "colorbar": {
              "outlinewidth": 0,
              "ticks": ""
             }
            },
            "type": "scattermapbox"
           }
          ],
          "scatterpolar": [
           {
            "marker": {
             "colorbar": {
              "outlinewidth": 0,
              "ticks": ""
             }
            },
            "type": "scatterpolar"
           }
          ],
          "scatterpolargl": [
           {
            "marker": {
             "colorbar": {
              "outlinewidth": 0,
              "ticks": ""
             }
            },
            "type": "scatterpolargl"
           }
          ],
          "scatterternary": [
           {
            "marker": {
             "colorbar": {
              "outlinewidth": 0,
              "ticks": ""
             }
            },
            "type": "scatterternary"
           }
          ],
          "surface": [
           {
            "colorbar": {
             "outlinewidth": 0,
             "ticks": ""
            },
            "colorscale": [
             [
              0,
              "#0d0887"
             ],
             [
              0.1111111111111111,
              "#46039f"
             ],
             [
              0.2222222222222222,
              "#7201a8"
             ],
             [
              0.3333333333333333,
              "#9c179e"
             ],
             [
              0.4444444444444444,
              "#bd3786"
             ],
             [
              0.5555555555555556,
              "#d8576b"
             ],
             [
              0.6666666666666666,
              "#ed7953"
             ],
             [
              0.7777777777777778,
              "#fb9f3a"
             ],
             [
              0.8888888888888888,
              "#fdca26"
             ],
             [
              1,
              "#f0f921"
             ]
            ],
            "type": "surface"
           }
          ],
          "table": [
           {
            "cells": {
             "fill": {
              "color": "#EBF0F8"
             },
             "line": {
              "color": "white"
             }
            },
            "header": {
             "fill": {
              "color": "#C8D4E3"
             },
             "line": {
              "color": "white"
             }
            },
            "type": "table"
           }
          ]
         },
         "layout": {
          "annotationdefaults": {
           "arrowcolor": "#2a3f5f",
           "arrowhead": 0,
           "arrowwidth": 1
          },
          "coloraxis": {
           "colorbar": {
            "outlinewidth": 0,
            "ticks": ""
           }
          },
          "colorscale": {
           "diverging": [
            [
             0,
             "#8e0152"
            ],
            [
             0.1,
             "#c51b7d"
            ],
            [
             0.2,
             "#de77ae"
            ],
            [
             0.3,
             "#f1b6da"
            ],
            [
             0.4,
             "#fde0ef"
            ],
            [
             0.5,
             "#f7f7f7"
            ],
            [
             0.6,
             "#e6f5d0"
            ],
            [
             0.7,
             "#b8e186"
            ],
            [
             0.8,
             "#7fbc41"
            ],
            [
             0.9,
             "#4d9221"
            ],
            [
             1,
             "#276419"
            ]
           ],
           "sequential": [
            [
             0,
             "#0d0887"
            ],
            [
             0.1111111111111111,
             "#46039f"
            ],
            [
             0.2222222222222222,
             "#7201a8"
            ],
            [
             0.3333333333333333,
             "#9c179e"
            ],
            [
             0.4444444444444444,
             "#bd3786"
            ],
            [
             0.5555555555555556,
             "#d8576b"
            ],
            [
             0.6666666666666666,
             "#ed7953"
            ],
            [
             0.7777777777777778,
             "#fb9f3a"
            ],
            [
             0.8888888888888888,
             "#fdca26"
            ],
            [
             1,
             "#f0f921"
            ]
           ],
           "sequentialminus": [
            [
             0,
             "#0d0887"
            ],
            [
             0.1111111111111111,
             "#46039f"
            ],
            [
             0.2222222222222222,
             "#7201a8"
            ],
            [
             0.3333333333333333,
             "#9c179e"
            ],
            [
             0.4444444444444444,
             "#bd3786"
            ],
            [
             0.5555555555555556,
             "#d8576b"
            ],
            [
             0.6666666666666666,
             "#ed7953"
            ],
            [
             0.7777777777777778,
             "#fb9f3a"
            ],
            [
             0.8888888888888888,
             "#fdca26"
            ],
            [
             1,
             "#f0f921"
            ]
           ]
          },
          "colorway": [
           "#636efa",
           "#EF553B",
           "#00cc96",
           "#ab63fa",
           "#FFA15A",
           "#19d3f3",
           "#FF6692",
           "#B6E880",
           "#FF97FF",
           "#FECB52"
          ],
          "font": {
           "color": "#2a3f5f"
          },
          "geo": {
           "bgcolor": "white",
           "lakecolor": "white",
           "landcolor": "#E5ECF6",
           "showlakes": true,
           "showland": true,
           "subunitcolor": "white"
          },
          "hoverlabel": {
           "align": "left"
          },
          "hovermode": "closest",
          "mapbox": {
           "style": "light"
          },
          "paper_bgcolor": "white",
          "plot_bgcolor": "#E5ECF6",
          "polar": {
           "angularaxis": {
            "gridcolor": "white",
            "linecolor": "white",
            "ticks": ""
           },
           "bgcolor": "#E5ECF6",
           "radialaxis": {
            "gridcolor": "white",
            "linecolor": "white",
            "ticks": ""
           }
          },
          "scene": {
           "xaxis": {
            "backgroundcolor": "#E5ECF6",
            "gridcolor": "white",
            "gridwidth": 2,
            "linecolor": "white",
            "showbackground": true,
            "ticks": "",
            "zerolinecolor": "white"
           },
           "yaxis": {
            "backgroundcolor": "#E5ECF6",
            "gridcolor": "white",
            "gridwidth": 2,
            "linecolor": "white",
            "showbackground": true,
            "ticks": "",
            "zerolinecolor": "white"
           },
           "zaxis": {
            "backgroundcolor": "#E5ECF6",
            "gridcolor": "white",
            "gridwidth": 2,
            "linecolor": "white",
            "showbackground": true,
            "ticks": "",
            "zerolinecolor": "white"
           }
          },
          "shapedefaults": {
           "line": {
            "color": "#2a3f5f"
           }
          },
          "ternary": {
           "aaxis": {
            "gridcolor": "white",
            "linecolor": "white",
            "ticks": ""
           },
           "baxis": {
            "gridcolor": "white",
            "linecolor": "white",
            "ticks": ""
           },
           "bgcolor": "#E5ECF6",
           "caxis": {
            "gridcolor": "white",
            "linecolor": "white",
            "ticks": ""
           }
          },
          "title": {
           "x": 0.05
          },
          "xaxis": {
           "automargin": true,
           "gridcolor": "white",
           "linecolor": "white",
           "ticks": "",
           "title": {
            "standoff": 15
           },
           "zerolinecolor": "white",
           "zerolinewidth": 2
          },
          "yaxis": {
           "automargin": true,
           "gridcolor": "white",
           "linecolor": "white",
           "ticks": "",
           "title": {
            "standoff": 15
           },
           "zerolinecolor": "white",
           "zerolinewidth": 2
          }
         }
        }
       }
      },
      "text/html": [
       "<div>\n",
       "        \n",
       "        \n",
       "            <div id=\"0f888ac7-9a64-4771-87de-d7d173bc4bd8\" class=\"plotly-graph-div\" style=\"height:525px; width:100%;\"></div>\n",
       "            <script type=\"text/javascript\">\n",
       "                require([\"plotly\"], function(Plotly) {\n",
       "                    window.PLOTLYENV=window.PLOTLYENV || {};\n",
       "                    \n",
       "                if (document.getElementById(\"0f888ac7-9a64-4771-87de-d7d173bc4bd8\")) {\n",
       "                    Plotly.newPlot(\n",
       "                        '0f888ac7-9a64-4771-87de-d7d173bc4bd8',\n",
       "                        [{\"branchvalues\": \"total\", \"domain\": {\"x\": [0.0, 1.0], \"y\": [0.0, 1.0]}, \"hovertemplate\": \"labels=%{label}<br>CMPLID=%{value}<br>parent=%{parent}<br>id=%{id}<extra></extra>\", \"ids\": [\"Honda/ACURA\", \"Fiat Chrysler Automobiles/ALFA ROMEO\", \"Aston Martin Finance Gr./ASTON MARTIN\", \"Volkswagen/AUDI\", \"BMW/BENTLEY\", \"Volkswagen/BENTLEY\", \"BMW/BMW\", \"General Motors/BUICK\", \"General Motors/CADILLAC\", \"General Motors/CHEVROLET\", \"Isuzu/CHEVROLET\", \"Fiat Chrysler Automobiles/CHRYSLER\", \"Toyota Group/DAIHATSU\", \"Fiat Chrysler Automobiles/DODGE\", \"Ferrari/FERRARI\", \"Fiat Chrysler Automobiles/FIAT\", \"Ford/FORD\", \"Hyundai Kia Automotive Group/GENESIS\", \"General Motors/GMC\", \"Honda/HONDA\", \"General Motors/HUMMER\", \"Hyundai Kia Automotive Group/HYUNDAI\", \"Renault-Nissan-Mitsubishi/INFINITI\", \"Isuzu/ISUZU\", \"Tata Gr./JAGUAR\", \"Fiat Chrysler Automobiles/JEEP\", \"Hyundai Kia Automotive Group/KIA\", \"KTM/KTM\", \"Volkswagen/LAMBORGHINI\", \"Ford/LAND ROVER\", \"Tata Gr./LAND ROVER\", \"Toyota Group/LEXUS\", \"Ford/LINCOLN\", \"Geely Automobile Hld./LOTUS\", \"Fiat Chrysler Automobiles/MASERATI\", \"Mazda Motors Gr./MAZDA\", \"McLaren Group/MCLAREN\", \"Daimler/MERCEDES-MAYBACH\", \"Ford/MERCURY\", \"BMW/MINI\", \"Renault-Nissan-Mitsubishi/MITSUBISHI\", \"Daimler/Mercedes-Benz\", \"Renault-Nissan-Mitsubishi/NISSAN\", \"General Motors/OLDSMOBILE\", \"Pagani/PAGANI\", \"Piaggio/PIAGGIO\", \"Fiat Chrysler Automobiles/PLYMOUTH\", \"General Motors/PONTIAC\", \"Volkswagen/PORSCHE\", \"Fiat Chrysler Automobiles/RAM\", \"Tata Gr./RANGE ROVER\", \"Renault-Nissan-Mitsubishi/RENAULT\", \"BMW/ROLLS-ROYCE\", \"General Motors/SAAB\", \"Saab/SAAB\", \"General Motors/SATURN\", \"Toyota Group/SCION\", \"Daimler/SMART\", \"Subaru Gr./SUBARU\", \"Suzuki/SUZUKI\", \"Tesla/TESLA\", \"Toyota Group/TOYOTA\", \"Volkswagen/VOLKSWAGEN\", \"Geely Automobile Hld./VOLVO\", \"Aston Martin Finance Gr.\", \"BMW\", \"Daimler\", \"Ferrari\", \"Fiat Chrysler Automobiles\", \"Ford\", \"Geely Automobile Hld.\", \"General Motors\", \"Honda\", \"Hyundai Kia Automotive Group\", \"Isuzu\", \"KTM\", \"Mazda Motors Gr.\", \"McLaren Group\", \"Pagani\", \"Piaggio\", \"Renault-Nissan-Mitsubishi\", \"Saab\", \"Subaru Gr.\", \"Suzuki\", \"Tata Gr.\", \"Tesla\", \"Toyota Group\", \"Volkswagen\"], \"labels\": [\"ACURA\", \"ALFA ROMEO\", \"ASTON MARTIN\", \"AUDI\", \"BENTLEY\", \"BENTLEY\", \"BMW\", \"BUICK\", \"CADILLAC\", \"CHEVROLET\", \"CHEVROLET\", \"CHRYSLER\", \"DAIHATSU\", \"DODGE\", \"FERRARI\", \"FIAT\", \"FORD\", \"GENESIS\", \"GMC\", \"HONDA\", \"HUMMER\", \"HYUNDAI\", \"INFINITI\", \"ISUZU\", \"JAGUAR\", \"JEEP\", \"KIA\", \"KTM\", \"LAMBORGHINI\", \"LAND ROVER\", \"LAND ROVER\", \"LEXUS\", \"LINCOLN\", \"LOTUS\", \"MASERATI\", \"MAZDA\", \"MCLAREN\", \"MERCEDES-MAYBACH\", \"MERCURY\", \"MINI\", \"MITSUBISHI\", \"Mercedes-Benz\", \"NISSAN\", \"OLDSMOBILE\", \"PAGANI\", \"PIAGGIO\", \"PLYMOUTH\", \"PONTIAC\", \"PORSCHE\", \"RAM\", \"RANGE ROVER\", \"RENAULT\", \"ROLLS-ROYCE\", \"SAAB\", \"SAAB\", \"SATURN\", \"SCION\", \"SMART\", \"SUBARU\", \"SUZUKI\", \"TESLA\", \"TOYOTA\", \"VOLKSWAGEN\", \"VOLVO\", \"Aston Martin Finance Gr.\", \"BMW\", \"Daimler\", \"Ferrari\", \"Fiat Chrysler Automobiles\", \"Ford\", \"Geely Automobile Hld.\", \"General Motors\", \"Honda\", \"Hyundai Kia Automotive Group\", \"Isuzu\", \"KTM\", \"Mazda Motors Gr.\", \"McLaren Group\", \"Pagani\", \"Piaggio\", \"Renault-Nissan-Mitsubishi\", \"Saab\", \"Subaru Gr.\", \"Suzuki\", \"Tata Gr.\", \"Tesla\", \"Toyota Group\", \"Volkswagen\"], \"name\": \"\", \"parents\": [\"Honda\", \"Fiat Chrysler Automobiles\", \"Aston Martin Finance Gr.\", \"Volkswagen\", \"BMW\", \"Volkswagen\", \"BMW\", \"General Motors\", \"General Motors\", \"General Motors\", \"Isuzu\", \"Fiat Chrysler Automobiles\", \"Toyota Group\", \"Fiat Chrysler Automobiles\", \"Ferrari\", \"Fiat Chrysler Automobiles\", \"Ford\", \"Hyundai Kia Automotive Group\", \"General Motors\", \"Honda\", \"General Motors\", \"Hyundai Kia Automotive Group\", \"Renault-Nissan-Mitsubishi\", \"Isuzu\", \"Tata Gr.\", \"Fiat Chrysler Automobiles\", \"Hyundai Kia Automotive Group\", \"KTM\", \"Volkswagen\", \"Ford\", \"Tata Gr.\", \"Toyota Group\", \"Ford\", \"Geely Automobile Hld.\", \"Fiat Chrysler Automobiles\", \"Mazda Motors Gr.\", \"McLaren Group\", \"Daimler\", \"Ford\", \"BMW\", \"Renault-Nissan-Mitsubishi\", \"Daimler\", \"Renault-Nissan-Mitsubishi\", \"General Motors\", \"Pagani\", \"Piaggio\", \"Fiat Chrysler Automobiles\", \"General Motors\", \"Volkswagen\", \"Fiat Chrysler Automobiles\", \"Tata Gr.\", \"Renault-Nissan-Mitsubishi\", \"BMW\", \"General Motors\", \"Saab\", \"General Motors\", \"Toyota Group\", \"Daimler\", \"Subaru Gr.\", \"Suzuki\", \"Tesla\", \"Toyota Group\", \"Volkswagen\", \"Geely Automobile Hld.\", \"\", \"\", \"\", \"\", \"\", \"\", \"\", \"\", \"\", \"\", \"\", \"\", \"\", \"\", \"\", \"\", \"\", \"\", \"\", \"\", \"\", \"\", \"\", \"\"], \"type\": \"sunburst\", \"values\": [6445, 87, 22, 5450, 1, 33, 21319, 9597, 8189, 99080, 3, 33768, 1, 58280, 39, 1304, 138890, 45, 21747, 47160, 1059, 30080, 5177, 1352, 1131, 57815, 19281, 95, 4, 85, 1442, 7897, 5325, 82, 149, 11537, 11, 1, 8655, 4279, 3560, 15260, 49793, 1343, 2, 102, 273, 14000, 953, 9966, 38, 2, 6, 1233, 193, 10673, 1740, 98, 12672, 2875, 1888, 68286, 19690, 2605, 22, 25605, 15359, 39, 161642, 152955, 2687, 166921, 53605, 49406, 1355, 95, 11537, 11, 2, 102, 58532, 193, 12672, 2875, 2611, 1888, 77924, 26130]}],\n",
       "                        {\"legend\": {\"tracegroupgap\": 0}, \"margin\": {\"t\": 60}, \"template\": {\"data\": {\"bar\": [{\"error_x\": {\"color\": \"#2a3f5f\"}, \"error_y\": {\"color\": \"#2a3f5f\"}, \"marker\": {\"line\": {\"color\": \"#E5ECF6\", \"width\": 0.5}}, \"type\": \"bar\"}], \"barpolar\": [{\"marker\": {\"line\": {\"color\": \"#E5ECF6\", \"width\": 0.5}}, \"type\": \"barpolar\"}], \"carpet\": [{\"aaxis\": {\"endlinecolor\": \"#2a3f5f\", \"gridcolor\": \"white\", \"linecolor\": \"white\", \"minorgridcolor\": \"white\", \"startlinecolor\": \"#2a3f5f\"}, \"baxis\": {\"endlinecolor\": \"#2a3f5f\", \"gridcolor\": \"white\", \"linecolor\": \"white\", \"minorgridcolor\": \"white\", \"startlinecolor\": \"#2a3f5f\"}, \"type\": \"carpet\"}], \"choropleth\": [{\"colorbar\": {\"outlinewidth\": 0, \"ticks\": \"\"}, \"type\": \"choropleth\"}], \"contour\": [{\"colorbar\": {\"outlinewidth\": 0, \"ticks\": \"\"}, \"colorscale\": [[0.0, \"#0d0887\"], [0.1111111111111111, \"#46039f\"], [0.2222222222222222, \"#7201a8\"], [0.3333333333333333, \"#9c179e\"], [0.4444444444444444, \"#bd3786\"], [0.5555555555555556, \"#d8576b\"], [0.6666666666666666, \"#ed7953\"], [0.7777777777777778, \"#fb9f3a\"], [0.8888888888888888, \"#fdca26\"], [1.0, \"#f0f921\"]], \"type\": \"contour\"}], \"contourcarpet\": [{\"colorbar\": {\"outlinewidth\": 0, \"ticks\": \"\"}, \"type\": \"contourcarpet\"}], \"heatmap\": [{\"colorbar\": {\"outlinewidth\": 0, \"ticks\": \"\"}, \"colorscale\": [[0.0, \"#0d0887\"], [0.1111111111111111, \"#46039f\"], [0.2222222222222222, \"#7201a8\"], [0.3333333333333333, \"#9c179e\"], [0.4444444444444444, \"#bd3786\"], [0.5555555555555556, \"#d8576b\"], [0.6666666666666666, \"#ed7953\"], [0.7777777777777778, \"#fb9f3a\"], [0.8888888888888888, \"#fdca26\"], [1.0, \"#f0f921\"]], \"type\": \"heatmap\"}], \"heatmapgl\": [{\"colorbar\": {\"outlinewidth\": 0, \"ticks\": \"\"}, \"colorscale\": [[0.0, \"#0d0887\"], [0.1111111111111111, \"#46039f\"], [0.2222222222222222, \"#7201a8\"], [0.3333333333333333, \"#9c179e\"], [0.4444444444444444, \"#bd3786\"], [0.5555555555555556, \"#d8576b\"], [0.6666666666666666, \"#ed7953\"], [0.7777777777777778, \"#fb9f3a\"], [0.8888888888888888, \"#fdca26\"], [1.0, \"#f0f921\"]], \"type\": \"heatmapgl\"}], \"histogram\": [{\"marker\": {\"colorbar\": {\"outlinewidth\": 0, \"ticks\": \"\"}}, \"type\": \"histogram\"}], \"histogram2d\": [{\"colorbar\": {\"outlinewidth\": 0, \"ticks\": \"\"}, \"colorscale\": [[0.0, \"#0d0887\"], [0.1111111111111111, \"#46039f\"], [0.2222222222222222, \"#7201a8\"], [0.3333333333333333, \"#9c179e\"], [0.4444444444444444, \"#bd3786\"], [0.5555555555555556, \"#d8576b\"], [0.6666666666666666, \"#ed7953\"], [0.7777777777777778, \"#fb9f3a\"], [0.8888888888888888, \"#fdca26\"], [1.0, \"#f0f921\"]], \"type\": \"histogram2d\"}], \"histogram2dcontour\": [{\"colorbar\": {\"outlinewidth\": 0, \"ticks\": \"\"}, \"colorscale\": [[0.0, \"#0d0887\"], [0.1111111111111111, \"#46039f\"], [0.2222222222222222, \"#7201a8\"], [0.3333333333333333, \"#9c179e\"], [0.4444444444444444, \"#bd3786\"], [0.5555555555555556, \"#d8576b\"], [0.6666666666666666, \"#ed7953\"], [0.7777777777777778, \"#fb9f3a\"], [0.8888888888888888, \"#fdca26\"], [1.0, \"#f0f921\"]], \"type\": \"histogram2dcontour\"}], \"mesh3d\": [{\"colorbar\": {\"outlinewidth\": 0, \"ticks\": \"\"}, \"type\": \"mesh3d\"}], \"parcoords\": [{\"line\": {\"colorbar\": {\"outlinewidth\": 0, \"ticks\": \"\"}}, \"type\": \"parcoords\"}], \"pie\": [{\"automargin\": true, \"type\": \"pie\"}], \"scatter\": [{\"marker\": {\"colorbar\": {\"outlinewidth\": 0, \"ticks\": \"\"}}, \"type\": \"scatter\"}], \"scatter3d\": [{\"line\": {\"colorbar\": {\"outlinewidth\": 0, \"ticks\": \"\"}}, \"marker\": {\"colorbar\": {\"outlinewidth\": 0, \"ticks\": \"\"}}, \"type\": \"scatter3d\"}], \"scattercarpet\": [{\"marker\": {\"colorbar\": {\"outlinewidth\": 0, \"ticks\": \"\"}}, \"type\": \"scattercarpet\"}], \"scattergeo\": [{\"marker\": {\"colorbar\": {\"outlinewidth\": 0, \"ticks\": \"\"}}, \"type\": \"scattergeo\"}], \"scattergl\": [{\"marker\": {\"colorbar\": {\"outlinewidth\": 0, \"ticks\": \"\"}}, \"type\": \"scattergl\"}], \"scattermapbox\": [{\"marker\": {\"colorbar\": {\"outlinewidth\": 0, \"ticks\": \"\"}}, \"type\": \"scattermapbox\"}], \"scatterpolar\": [{\"marker\": {\"colorbar\": {\"outlinewidth\": 0, \"ticks\": \"\"}}, \"type\": \"scatterpolar\"}], \"scatterpolargl\": [{\"marker\": {\"colorbar\": {\"outlinewidth\": 0, \"ticks\": \"\"}}, \"type\": \"scatterpolargl\"}], \"scatterternary\": [{\"marker\": {\"colorbar\": {\"outlinewidth\": 0, \"ticks\": \"\"}}, \"type\": \"scatterternary\"}], \"surface\": [{\"colorbar\": {\"outlinewidth\": 0, \"ticks\": \"\"}, \"colorscale\": [[0.0, \"#0d0887\"], [0.1111111111111111, \"#46039f\"], [0.2222222222222222, \"#7201a8\"], [0.3333333333333333, \"#9c179e\"], [0.4444444444444444, \"#bd3786\"], [0.5555555555555556, \"#d8576b\"], [0.6666666666666666, \"#ed7953\"], [0.7777777777777778, \"#fb9f3a\"], [0.8888888888888888, \"#fdca26\"], [1.0, \"#f0f921\"]], \"type\": \"surface\"}], \"table\": [{\"cells\": {\"fill\": {\"color\": \"#EBF0F8\"}, \"line\": {\"color\": \"white\"}}, \"header\": {\"fill\": {\"color\": \"#C8D4E3\"}, \"line\": {\"color\": \"white\"}}, \"type\": \"table\"}]}, \"layout\": {\"annotationdefaults\": {\"arrowcolor\": \"#2a3f5f\", \"arrowhead\": 0, \"arrowwidth\": 1}, \"coloraxis\": {\"colorbar\": {\"outlinewidth\": 0, \"ticks\": \"\"}}, \"colorscale\": {\"diverging\": [[0, \"#8e0152\"], [0.1, \"#c51b7d\"], [0.2, \"#de77ae\"], [0.3, \"#f1b6da\"], [0.4, \"#fde0ef\"], [0.5, \"#f7f7f7\"], [0.6, \"#e6f5d0\"], [0.7, \"#b8e186\"], [0.8, \"#7fbc41\"], [0.9, \"#4d9221\"], [1, \"#276419\"]], \"sequential\": [[0.0, \"#0d0887\"], [0.1111111111111111, \"#46039f\"], [0.2222222222222222, \"#7201a8\"], [0.3333333333333333, \"#9c179e\"], [0.4444444444444444, \"#bd3786\"], [0.5555555555555556, \"#d8576b\"], [0.6666666666666666, \"#ed7953\"], [0.7777777777777778, \"#fb9f3a\"], [0.8888888888888888, \"#fdca26\"], [1.0, \"#f0f921\"]], \"sequentialminus\": [[0.0, \"#0d0887\"], [0.1111111111111111, \"#46039f\"], [0.2222222222222222, \"#7201a8\"], [0.3333333333333333, \"#9c179e\"], [0.4444444444444444, \"#bd3786\"], [0.5555555555555556, \"#d8576b\"], [0.6666666666666666, \"#ed7953\"], [0.7777777777777778, \"#fb9f3a\"], [0.8888888888888888, \"#fdca26\"], [1.0, \"#f0f921\"]]}, \"colorway\": [\"#636efa\", \"#EF553B\", \"#00cc96\", \"#ab63fa\", \"#FFA15A\", \"#19d3f3\", \"#FF6692\", \"#B6E880\", \"#FF97FF\", \"#FECB52\"], \"font\": {\"color\": \"#2a3f5f\"}, \"geo\": {\"bgcolor\": \"white\", \"lakecolor\": \"white\", \"landcolor\": \"#E5ECF6\", \"showlakes\": true, \"showland\": true, \"subunitcolor\": \"white\"}, \"hoverlabel\": {\"align\": \"left\"}, \"hovermode\": \"closest\", \"mapbox\": {\"style\": \"light\"}, \"paper_bgcolor\": \"white\", \"plot_bgcolor\": \"#E5ECF6\", \"polar\": {\"angularaxis\": {\"gridcolor\": \"white\", \"linecolor\": \"white\", \"ticks\": \"\"}, \"bgcolor\": \"#E5ECF6\", \"radialaxis\": {\"gridcolor\": \"white\", \"linecolor\": \"white\", \"ticks\": \"\"}}, \"scene\": {\"xaxis\": {\"backgroundcolor\": \"#E5ECF6\", \"gridcolor\": \"white\", \"gridwidth\": 2, \"linecolor\": \"white\", \"showbackground\": true, \"ticks\": \"\", \"zerolinecolor\": \"white\"}, \"yaxis\": {\"backgroundcolor\": \"#E5ECF6\", \"gridcolor\": \"white\", \"gridwidth\": 2, \"linecolor\": \"white\", \"showbackground\": true, \"ticks\": \"\", \"zerolinecolor\": \"white\"}, \"zaxis\": {\"backgroundcolor\": \"#E5ECF6\", \"gridcolor\": \"white\", \"gridwidth\": 2, \"linecolor\": \"white\", \"showbackground\": true, \"ticks\": \"\", \"zerolinecolor\": \"white\"}}, \"shapedefaults\": {\"line\": {\"color\": \"#2a3f5f\"}}, \"ternary\": {\"aaxis\": {\"gridcolor\": \"white\", \"linecolor\": \"white\", \"ticks\": \"\"}, \"baxis\": {\"gridcolor\": \"white\", \"linecolor\": \"white\", \"ticks\": \"\"}, \"bgcolor\": \"#E5ECF6\", \"caxis\": {\"gridcolor\": \"white\", \"linecolor\": \"white\", \"ticks\": \"\"}}, \"title\": {\"x\": 0.05}, \"xaxis\": {\"automargin\": true, \"gridcolor\": \"white\", \"linecolor\": \"white\", \"ticks\": \"\", \"title\": {\"standoff\": 15}, \"zerolinecolor\": \"white\", \"zerolinewidth\": 2}, \"yaxis\": {\"automargin\": true, \"gridcolor\": \"white\", \"linecolor\": \"white\", \"ticks\": \"\", \"title\": {\"standoff\": 15}, \"zerolinecolor\": \"white\", \"zerolinewidth\": 2}}}},\n",
       "                        {\"responsive\": true}\n",
       "                    ).then(function(){\n",
       "                            \n",
       "var gd = document.getElementById('0f888ac7-9a64-4771-87de-d7d173bc4bd8');\n",
       "var x = new MutationObserver(function (mutations, observer) {{\n",
       "        var display = window.getComputedStyle(gd).display;\n",
       "        if (!display || display === 'none') {{\n",
       "            console.log([gd, 'removed!']);\n",
       "            Plotly.purge(gd);\n",
       "            observer.disconnect();\n",
       "        }}\n",
       "}});\n",
       "\n",
       "// Listen for the removal of the full notebook cells\n",
       "var notebookContainer = gd.closest('#notebook-container');\n",
       "if (notebookContainer) {{\n",
       "    x.observe(notebookContainer, {childList: true});\n",
       "}}\n",
       "\n",
       "// Listen for the clearing of the current output cell\n",
       "var outputEl = gd.closest('.output');\n",
       "if (outputEl) {{\n",
       "    x.observe(outputEl, {childList: true});\n",
       "}}\n",
       "\n",
       "                        })\n",
       "                };\n",
       "                });\n",
       "            </script>\n",
       "        </div>"
      ]
     },
     "metadata": {},
     "output_type": "display_data"
    }
   ],
   "source": [
    "a=dfw.groupby(['MFR_NAME', 'MAKETXT'], as_index=False).count()[['MFR_NAME','MAKETXT', 'CMPLID']]\n",
    "fig = px.sunburst(a, path=['MFR_NAME', 'MAKETXT'], values= 'CMPLID')\n",
    "fig.show()"
   ]
  },
  {
   "cell_type": "code",
   "execution_count": 68,
   "metadata": {},
   "outputs": [],
   "source": [
    "VW.to_csv(r'/Users/nishant/Desktop/1- Reserch/Media Bias/Data&Code/NHSTA/VW.CSV', index = False)"
   ]
  },
  {
   "cell_type": "code",
   "execution_count": null,
   "metadata": {},
   "outputs": [],
   "source": []
  },
  {
   "cell_type": "code",
   "execution_count": 67,
   "metadata": {},
   "outputs": [],
   "source": [
    "VW=dfw[dfw['MAKETXT']=='VOLKSWAGEN']"
   ]
  },
  {
   "cell_type": "code",
   "execution_count": null,
   "metadata": {},
   "outputs": [],
   "source": []
  },
  {
   "cell_type": "code",
   "execution_count": null,
   "metadata": {},
   "outputs": [],
   "source": []
  },
  {
   "cell_type": "code",
   "execution_count": null,
   "metadata": {},
   "outputs": [],
   "source": []
  },
  {
   "cell_type": "code",
   "execution_count": null,
   "metadata": {},
   "outputs": [],
   "source": []
  },
  {
   "cell_type": "code",
   "execution_count": null,
   "metadata": {},
   "outputs": [],
   "source": []
  },
  {
   "cell_type": "code",
   "execution_count": null,
   "metadata": {},
   "outputs": [],
   "source": []
  },
  {
   "cell_type": "code",
   "execution_count": null,
   "metadata": {},
   "outputs": [],
   "source": []
  },
  {
   "cell_type": "code",
   "execution_count": null,
   "metadata": {},
   "outputs": [],
   "source": []
  },
  {
   "cell_type": "code",
   "execution_count": null,
   "metadata": {},
   "outputs": [],
   "source": []
  },
  {
   "cell_type": "code",
   "execution_count": null,
   "metadata": {},
   "outputs": [],
   "source": []
  },
  {
   "cell_type": "code",
   "execution_count": null,
   "metadata": {
    "scrolled": true
   },
   "outputs": [],
   "source": []
  },
  {
   "cell_type": "code",
   "execution_count": null,
   "metadata": {},
   "outputs": [],
   "source": []
  },
  {
   "cell_type": "code",
   "execution_count": null,
   "metadata": {},
   "outputs": [],
   "source": []
  }
 ],
 "metadata": {
  "kernelspec": {
   "display_name": "Python 3",
   "language": "python",
   "name": "python3"
  },
  "language_info": {
   "codemirror_mode": {
    "name": "ipython",
    "version": 3
   },
   "file_extension": ".py",
   "mimetype": "text/x-python",
   "name": "python",
   "nbconvert_exporter": "python",
   "pygments_lexer": "ipython3",
   "version": "3.7.4"
  }
 },
 "nbformat": 4,
 "nbformat_minor": 2
}
